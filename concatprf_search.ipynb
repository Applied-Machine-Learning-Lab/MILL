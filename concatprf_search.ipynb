{
 "cells": [
  {
   "cell_type": "code",
   "execution_count": null,
   "metadata": {},
   "outputs": [],
   "source": [
    "import openai\n",
    "import argparse\n",
    "import os\n",
    "import pyterrier as pt\n",
    "import pandas as pd\n",
    "from utils import *\n",
    "from pyterrier.measures import *\n",
    "from pandarallel import pandarallel\n",
    "from tqdm import tqdm_notebook as tqdm"
   ]
  },
  {
   "cell_type": "code",
   "execution_count": null,
   "metadata": {},
   "outputs": [],
   "source": [
    "# 导入模块\n",
    "import os\n",
    "# 设置代理\n",
    "proxy = ''\n",
    "os.environ['http_proxy'] = proxy\n",
    "os.environ['HTTP_PROXY'] = proxy\n",
    "os.environ['https_proxy'] = proxy\n",
    "os.environ['HTTPS_PROXY'] = proxy"
   ]
  },
  {
   "cell_type": "code",
   "execution_count": null,
   "metadata": {},
   "outputs": [],
   "source": [
    "# hyperparameters\n",
    "dataset_name = 'irds:beir/climate-fever' # irds:beir/scifact/test irds:beir/fiqa/test\n",
    "doc_field = 'text'\n",
    "query_field = 'text'\n",
    "N = 5 # LLM candidates\n",
    "K = 5 # PRF candidates\n",
    "n = 3\n",
    "k = 3"
   ]
  },
  {
   "cell_type": "code",
   "execution_count": null,
   "metadata": {},
   "outputs": [],
   "source": [
    "os.environ[\"JAVA_HOME\"]=\"your java path\"\n",
    "import pyterrier as pt\n",
    "pt.init(version=5.7, helper_version=\"0.0.7\")"
   ]
  },
  {
   "cell_type": "code",
   "execution_count": null,
   "metadata": {},
   "outputs": [],
   "source": [
    "dataset = pt.get_dataset(dataset_name)\n",
    "indexref = './index/{}'.format(dataset_name.replace('/', '-'))\n",
    "index = pt.IndexFactory.of(indexref)"
   ]
  },
  {
   "cell_type": "code",
   "execution_count": null,
   "metadata": {},
   "outputs": [],
   "source": [
    "rewrite_retriever = pt.BatchRetrieve(index, wmodel='BM25', metadata=['docno',doc_field], num_results=K)\n",
    "test_retriever = pt.BatchRetrieve(index, wmodel='BM25', metadata=['docno',doc_field])\n",
    "eval_metrics = [nDCG@1, nDCG@5, nDCG@10, nDCG@100, nDCG@1000,\n",
    "                            AP@1, AP@5, AP@10, AP@100, AP@1000,\n",
    "                            R@1, R@5, R@10, R@100, R@1000,\n",
    "                            P@1, P@5, P@10, P@100, P@1000,\n",
    "                            RR@1, RR@5, RR@10, RR@100, RR@1000]"
   ]
  },
  {
   "cell_type": "code",
   "execution_count": null,
   "metadata": {},
   "outputs": [],
   "source": [
    "dataset.get_topics()"
   ]
  },
  {
   "cell_type": "code",
   "execution_count": null,
   "metadata": {},
   "outputs": [],
   "source": [
    "df = dataset.get_topics()\n",
    "length = 0\n",
    "for i in range(df.shape[0]):\n",
    "    length += len(df.loc[i,'query'])\n",
    "length /= df.shape[0]\n",
    "length"
   ]
  },
  {
   "cell_type": "code",
   "execution_count": null,
   "metadata": {},
   "outputs": [],
   "source": [
    "df = pd.read_csv('rewrites/irds:beir-climate-fever-qqdzs-N3-K3-n3-k3-rewrite.csv')\n",
    "df"
   ]
  },
  {
   "cell_type": "code",
   "execution_count": null,
   "metadata": {},
   "outputs": [],
   "source": [
    "retrieve_input = dataset.get_topics(query_field)\n",
    "retrieved_results = rewrite_retriever(retrieve_input)"
   ]
  },
  {
   "cell_type": "code",
   "execution_count": null,
   "metadata": {},
   "outputs": [],
   "source": [
    "for i in range(df.shape[0]):\n",
    "    query = df.loc[i,'query_0']\n",
    "    doc_lis = retrieved_results[retrieved_results['query']==query][doc_field].tolist()\n",
    "    doc_lis = np.array([x[:1024] for x in doc_lis])\n",
    "    df.loc[i,'query'] = df.loc[i,'query'] + ''.join(doc_lis[:3])"
   ]
  },
  {
   "cell_type": "code",
   "execution_count": null,
   "metadata": {},
   "outputs": [],
   "source": [
    "df['qid'] = df['qid'].astype(str).astype(object)"
   ]
  },
  {
   "cell_type": "code",
   "execution_count": null,
   "metadata": {},
   "outputs": [],
   "source": [
    "results = pt.Experiment(\n",
    "            [pt.rewrite.tokenise() >> test_retriever.parallel(9)],\n",
    "            df[['qid','query']],\n",
    "            dataset.get_qrels(),\n",
    "            eval_metrics = eval_metrics\n",
    "        )"
   ]
  },
  {
   "cell_type": "code",
   "execution_count": null,
   "metadata": {},
   "outputs": [],
   "source": [
    "results.to_csv('results/irds:beir-climate-fever-qqdzs-concatprf-N3-K3-n3-k3.csv')"
   ]
  }
 ],
 "metadata": {
  "kernelspec": {
   "display_name": "terrier",
   "language": "python",
   "name": "python3"
  },
  "language_info": {
   "codemirror_mode": {
    "name": "ipython",
    "version": 3
   },
   "file_extension": ".py",
   "mimetype": "text/x-python",
   "name": "python",
   "nbconvert_exporter": "python",
   "pygments_lexer": "ipython3",
   "version": "3.9.18"
  },
  "orig_nbformat": 4,
  "vscode": {
   "interpreter": {
    "hash": "94c2bd6b60ad35ce7a2d4c821f6ac722638efeebbd2da13d64e527cdb3381b6c"
   }
  }
 },
 "nbformat": 4,
 "nbformat_minor": 2
}
